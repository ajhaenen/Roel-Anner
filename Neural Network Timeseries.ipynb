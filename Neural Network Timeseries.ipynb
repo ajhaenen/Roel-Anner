{
 "cells": [
  {
   "cell_type": "markdown",
   "metadata": {},
   "source": [
    "# Neural network for timeseries prediction\n",
    "Data from TrueFX Timeseries"
   ]
  },
  {
   "cell_type": "code",
   "execution_count": null,
   "metadata": {},
   "outputs": [],
   "source": [
    "## Import Packages\n",
    "import numpy as np\n",
    "import matplotlib.pyplot as plt\n",
    "import time\n",
    "import csv\n",
    "import tensorflow as tf\n",
    "import scipy.io\n",
    "\n",
    "\n",
    "## Start variable inspector\n",
    "inspector = VariableInspectorWindow(get_ipython())\n",
    "inspector\n",
    "\n",
    "## Plot options\n",
    "plt.ion()\n",
    "plot_interval = 100\n",
    "save_interval = 1000\n",
    "plot_starttime = 1000\n",
    "save_starttime = 1000\n",
    "\n",
    "## Create Network\n",
    "# agent = Forex_agent_offline()\n",
    "# agent.create_network()\n",
    "writer = tf.summary.FileWriter('loss_log')\n",
    "\n",
    "## Import Data\n",
    "mat = scipy.io.loadmat('Y:/Roel-Anner_DATA/TrueFX_201601_5Hz_pythonready.mat')\n"
   ]
  },
  {
   "cell_type": "code",
   "execution_count": null,
   "metadata": {
    "collapsed": true
   },
   "outputs": [],
   "source": []
  }
 ],
 "metadata": {
  "kernelspec": {
   "display_name": "Python 3",
   "language": "python",
   "name": "python3"
  },
  "language_info": {
   "codemirror_mode": {
    "name": "ipython",
    "version": 3
   },
   "file_extension": ".py",
   "mimetype": "text/x-python",
   "name": "python",
   "nbconvert_exporter": "python",
   "pygments_lexer": "ipython3",
   "version": "3.6.6"
  },
  "latex_envs": {
   "LaTeX_envs_menu_present": true,
   "autoclose": false,
   "autocomplete": true,
   "bibliofile": "biblio.bib",
   "cite_by": "apalike",
   "current_citInitial": 1,
   "eqLabelWithNumbers": true,
   "eqNumInitial": 1,
   "hotkeys": {
    "equation": "Ctrl-E",
    "itemize": "Ctrl-I"
   },
   "labels_anchors": false,
   "latex_user_defs": false,
   "report_style_numbering": false,
   "user_envs_cfg": false
  }
 },
 "nbformat": 4,
 "nbformat_minor": 2
}
